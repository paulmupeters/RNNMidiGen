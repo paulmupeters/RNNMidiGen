{
 "cells": [
  {
   "cell_type": "code",
   "execution_count": 48,
   "metadata": {},
   "outputs": [],
   "source": [
    "from mido import MidiFile,tick2second, MidiTrack, Message\n",
    "import time\n",
    "import glob\n",
    "from keras import utils, Sequential, layers\n",
    "from keras.callbacks import ModelCheckpoint\n",
    "import numpy as np\n"
   ]
  },
  {
   "cell_type": "code",
   "execution_count": 49,
   "metadata": {},
   "outputs": [
    {
     "name": "stdout",
     "output_type": "stream",
     "text": [
      "4\n"
     ]
    }
   ],
   "source": [
    "!echo $CUDA_VISIBLE_DEVICES "
   ]
  },
  {
   "cell_type": "markdown",
   "metadata": {},
   "source": [
    "## Preprocessing"
   ]
  },
  {
   "cell_type": "code",
   "execution_count": 61,
   "metadata": {},
   "outputs": [],
   "source": [
    "def getNotes(timeMido, veloMido, notesMido):\n",
    "    start= time.time()\n",
    "    print(\"getting midi files\")\n",
    "    folders = [\"2004\"]#,  \"2008\"],  \"2009\",  \"2011\",  \"2013\",  \"2014\",  \"2015\",  \"2017\"]\n",
    "    files = 0\n",
    "    for folder in folders:\n",
    "        #path = \"/home/paul/Projects/maestro-v1.0.0/\"+ folder +\"/*.midi\"\n",
    "        path = \"/data/s1453440/maestro-v1.0.0-midi/maestro-v1.0.0/\"+ folder +\"/*.midi\"\n",
    "        for file in glob.glob(path):\n",
    "            files +=1\n",
    "            \n",
    "            if (time.time() - start) > MAX_TIME_ALLOWED:\n",
    "                break\n",
    "            midi = MidiFile(file)\n",
    "            for track in midi.tracks:\n",
    "                for msg in track:\n",
    "                    if msg.type == 'set_tempo':\n",
    "                        tempo = msg.tempo\n",
    "                    if not msg.is_meta and msg.type == 'note_on':\n",
    "                        notesMido.append(msg.note)\n",
    "                        timeMido.append(msg.time)\n",
    "                        #veloMido.append(msg.velocity)\n",
    "        print(files)\n",
    "        \n",
    "    return notesMido, timeMido, veloMido\n"
   ]
  },
  {
   "cell_type": "code",
   "execution_count": 58,
   "metadata": {},
   "outputs": [],
   "source": []
  },
  {
   "cell_type": "code",
   "execution_count": 62,
   "metadata": {},
   "outputs": [
    {
     "name": "stdout",
     "output_type": "stream",
     "text": [
      "getting midi files\n",
      "132\n"
     ]
    }
   ],
   "source": [
    "start = time.time()\n",
    "timeMido = []\n",
    "veloMido = []\n",
    "notesMido = []\n",
    "MAX_TIME_ALLOWED = 300\n",
    "files = 0\n",
    "\n",
    "notesMido,timeMido,veloMido = getNotes(timeMido, veloMido, notesMido)\n"
   ]
  },
  {
   "cell_type": "code",
   "execution_count": 63,
   "metadata": {},
   "outputs": [
    {
     "data": {
      "text/plain": [
       "500"
      ]
     },
     "execution_count": 63,
     "metadata": {},
     "output_type": "execute_result"
    }
   ],
   "source": [
    "len(notes)"
   ]
  },
  {
   "cell_type": "code",
   "execution_count": 64,
   "metadata": {},
   "outputs": [],
   "source": [
    "# input for notes\n",
    "inputLength = 80\n",
    "# get all pitch names\n",
    "notes = np.unique(notesMido)\n",
    "# create a dictionary to map pitches to integers\n",
    "normNotes = np.array(notesMido) - 21\n",
    "network_input = []\n",
    "network_output = []\n",
    "# create input sequences and the corresponding outputs\n",
    "for i in range(0, len(normNotes) - inputLength):\n",
    "    network_input.append(normNotes[i:i+inputLength])\n",
    "    network_output.append(normNotes[i + inputLength])\n",
    "\n",
    "\n",
    "n_patterns = len(network_input)\n",
    "# reshape the input into a format compatible with LSTM layers\n",
    "network_input = np.reshape(network_input, (n_patterns ,inputLength, 1))\n",
    "# normalize input\n",
    "network_input = network_input / float(len(notes))\n",
    "network_output = utils.to_categorical(network_output)\n"
   ]
  },
  {
   "cell_type": "markdown",
   "metadata": {},
   "source": [
    "## prepare for input/output for timing"
   ]
  },
  {
   "cell_type": "code",
   "execution_count": 65,
   "metadata": {},
   "outputs": [],
   "source": [
    "#map timeinterval to int\n",
    "times = np.unique(timeMido)\n",
    "notes = np.unique(notesMido)\n",
    "\n",
    "time_to_int = dict((time, integer) for integer, time in enumerate(times))\n",
    "normNotesMido = np.array(notesMido)/float(len(notes))\n",
    "normTimeMido = np.array(timeMido)/float(len(times))"
   ]
  },
  {
   "cell_type": "code",
   "execution_count": 66,
   "metadata": {},
   "outputs": [],
   "source": [
    "# input for time\n",
    "inputLength = 80\n",
    "\n",
    "network_input = []\n",
    "network_output = []\n",
    "\n",
    "\n",
    "for i in range(0, len(timeMido) - inputLength):\n",
    "    network_input.append( [normNotesMido[i + 1:i + inputLength + 1],normTimeMido[i:i+inputLength]])\n",
    "    network_output.append(time_to_int[timeMido[i + inputLength]])"
   ]
  },
  {
   "cell_type": "code",
   "execution_count": 67,
   "metadata": {},
   "outputs": [],
   "source": [
    "n_patterns = len(network_input)\n",
    "network_input = np.array(network_input)\n",
    "net_in = []\n",
    "for i in range(0, n_patterns):\n",
    "    net_in.append(network_input[i].transpose())\n",
    "network_input = np.array(net_in)"
   ]
  },
  {
   "cell_type": "code",
   "execution_count": 69,
   "metadata": {},
   "outputs": [],
   "source": [
    "network_output = utils.to_categorical(network_output)"
   ]
  },
  {
   "cell_type": "code",
   "execution_count": 81,
   "metadata": {},
   "outputs": [],
   "source": [
    "int_to_time = {integer: time for time, integer in time_to_int.items()}"
   ]
  },
  {
   "cell_type": "markdown",
   "metadata": {},
   "source": [
    "## Training"
   ]
  },
  {
   "cell_type": "code",
   "execution_count": 134,
   "metadata": {},
   "outputs": [
    {
     "data": {
      "text/plain": [
       "array([[[7.61363636e-01, 4.02993667e-03],\n",
       "        [7.38636364e-01, 6.73575130e-02],\n",
       "        [7.38636364e-01, 1.19746690e-01],\n",
       "        ...,\n",
       "        [5.68181818e-01, 1.72711572e-03],\n",
       "        [8.40909091e-01, 1.15141048e-03],\n",
       "        [7.84090909e-01, 8.05987334e-03]],\n",
       "\n",
       "       [[7.38636364e-01, 6.73575130e-02],\n",
       "        [7.38636364e-01, 1.19746690e-01],\n",
       "        [7.95454545e-01, 1.09383995e-02],\n",
       "        ...,\n",
       "        [8.40909091e-01, 1.15141048e-03],\n",
       "        [7.84090909e-01, 8.05987334e-03],\n",
       "        [6.81818182e-01, 1.26655153e-02]],\n",
       "\n",
       "       [[7.38636364e-01, 1.19746690e-01],\n",
       "        [7.95454545e-01, 1.09383995e-02],\n",
       "        [7.95454545e-01, 5.75705239e-04],\n",
       "        ...,\n",
       "        [7.84090909e-01, 8.05987334e-03],\n",
       "        [6.81818182e-01, 1.26655153e-02],\n",
       "        [4.65909091e-01, 1.15141048e-03]],\n",
       "\n",
       "       ...,\n",
       "\n",
       "       [[7.72727273e-01, 6.21761658e-02],\n",
       "        [6.81818182e-01, 3.90328152e-01],\n",
       "        [5.00000000e-01, 2.18767991e-02],\n",
       "        ...,\n",
       "        [5.00000000e-01, 5.75705239e-04],\n",
       "        [5.45454545e-01, 6.62061025e-02],\n",
       "        [6.36363636e-01, 0.00000000e+00]],\n",
       "\n",
       "       [[6.81818182e-01, 3.90328152e-01],\n",
       "        [5.00000000e-01, 2.18767991e-02],\n",
       "        [5.79545455e-01, 6.90846287e-03],\n",
       "        ...,\n",
       "        [5.45454545e-01, 6.62061025e-02],\n",
       "        [6.36363636e-01, 0.00000000e+00],\n",
       "        [6.81818182e-01, 0.00000000e+00]],\n",
       "\n",
       "       [[5.00000000e-01, 2.18767991e-02],\n",
       "        [5.79545455e-01, 6.90846287e-03],\n",
       "        [6.81818182e-01, 0.00000000e+00],\n",
       "        ...,\n",
       "        [6.36363636e-01, 0.00000000e+00],\n",
       "        [6.81818182e-01, 0.00000000e+00],\n",
       "        [7.72727273e-01, 0.00000000e+00]]])"
      ]
     },
     "execution_count": 134,
     "metadata": {},
     "output_type": "execute_result"
    }
   ],
   "source": [
    "normNotesMido"
   ]
  },
  {
   "cell_type": "code",
   "execution_count": 273,
   "metadata": {},
   "outputs": [],
   "source": [
    "model = Sequential()\n",
    "model.add(layers.LSTM(\n",
    "    256,\n",
    "    input_shape=(network_input.shape[1], network_input.shape[2]),\n",
    "    return_sequences=True\n",
    "))\n",
    "model.add(layers.Dropout(0.3))\n",
    "model.add(layers.LSTM(256, return_sequences=True))\n",
    "model.add(layers.Dropout(0.3))\n",
    "model.add(layers.LSTM(256))\n",
    "model.add(layers.Dense(256))\n",
    "model.add(layers.Dropout(0.3))\n",
    "model.add(layers.Dense(len(times)))\n",
    "model.add(layers.Activation('softmax'))\n",
    "model.compile(loss='categorical_crossentropy', optimizer='rmsprop')"
   ]
  },
  {
   "cell_type": "code",
   "execution_count": 275,
   "metadata": {
    "collapsed": true
   },
   "outputs": [
    {
     "name": "stdout",
     "output_type": "stream",
     "text": [
      "Epoch 1/20\n",
      "   7488/1629980 [..............................] - ETA: 6:25:12 - loss: 4.6144"
     ]
    },
    {
     "ename": "KeyboardInterrupt",
     "evalue": "",
     "output_type": "error",
     "traceback": [
      "\u001b[0;31m---------------------------------------------------------------------------\u001b[0m",
      "\u001b[0;31mKeyboardInterrupt\u001b[0m                         Traceback (most recent call last)",
      "\u001b[0;32m<timed exec>\u001b[0m in \u001b[0;36m<module>\u001b[0;34m\u001b[0m\n",
      "\u001b[0;32m/data/s1453440/anaconda3/envs/Tensorflow/lib/python3.6/site-packages/keras/models.py\u001b[0m in \u001b[0;36mfit\u001b[0;34m(self, x, y, batch_size, epochs, verbose, callbacks, validation_split, validation_data, shuffle, class_weight, sample_weight, initial_epoch, steps_per_epoch, validation_steps, **kwargs)\u001b[0m\n\u001b[1;32m    958\u001b[0m                               \u001b[0minitial_epoch\u001b[0m\u001b[0;34m=\u001b[0m\u001b[0minitial_epoch\u001b[0m\u001b[0;34m,\u001b[0m\u001b[0;34m\u001b[0m\u001b[0;34m\u001b[0m\u001b[0m\n\u001b[1;32m    959\u001b[0m                               \u001b[0msteps_per_epoch\u001b[0m\u001b[0;34m=\u001b[0m\u001b[0msteps_per_epoch\u001b[0m\u001b[0;34m,\u001b[0m\u001b[0;34m\u001b[0m\u001b[0;34m\u001b[0m\u001b[0m\n\u001b[0;32m--> 960\u001b[0;31m                               validation_steps=validation_steps)\n\u001b[0m\u001b[1;32m    961\u001b[0m \u001b[0;34m\u001b[0m\u001b[0m\n\u001b[1;32m    962\u001b[0m     def evaluate(self, x, y, batch_size=32, verbose=1,\n",
      "\u001b[0;32m/data/s1453440/anaconda3/envs/Tensorflow/lib/python3.6/site-packages/keras/engine/training.py\u001b[0m in \u001b[0;36mfit\u001b[0;34m(self, x, y, batch_size, epochs, verbose, callbacks, validation_split, validation_data, shuffle, class_weight, sample_weight, initial_epoch, steps_per_epoch, validation_steps, **kwargs)\u001b[0m\n\u001b[1;32m   1655\u001b[0m                               \u001b[0minitial_epoch\u001b[0m\u001b[0;34m=\u001b[0m\u001b[0minitial_epoch\u001b[0m\u001b[0;34m,\u001b[0m\u001b[0;34m\u001b[0m\u001b[0;34m\u001b[0m\u001b[0m\n\u001b[1;32m   1656\u001b[0m                               \u001b[0msteps_per_epoch\u001b[0m\u001b[0;34m=\u001b[0m\u001b[0msteps_per_epoch\u001b[0m\u001b[0;34m,\u001b[0m\u001b[0;34m\u001b[0m\u001b[0;34m\u001b[0m\u001b[0m\n\u001b[0;32m-> 1657\u001b[0;31m                               validation_steps=validation_steps)\n\u001b[0m\u001b[1;32m   1658\u001b[0m \u001b[0;34m\u001b[0m\u001b[0m\n\u001b[1;32m   1659\u001b[0m     def evaluate(self, x=None, y=None,\n",
      "\u001b[0;32m/data/s1453440/anaconda3/envs/Tensorflow/lib/python3.6/site-packages/keras/engine/training.py\u001b[0m in \u001b[0;36m_fit_loop\u001b[0;34m(self, f, ins, out_labels, batch_size, epochs, verbose, callbacks, val_f, val_ins, shuffle, callback_metrics, initial_epoch, steps_per_epoch, validation_steps)\u001b[0m\n\u001b[1;32m   1211\u001b[0m                     \u001b[0mbatch_logs\u001b[0m\u001b[0;34m[\u001b[0m\u001b[0;34m'size'\u001b[0m\u001b[0;34m]\u001b[0m \u001b[0;34m=\u001b[0m \u001b[0mlen\u001b[0m\u001b[0;34m(\u001b[0m\u001b[0mbatch_ids\u001b[0m\u001b[0;34m)\u001b[0m\u001b[0;34m\u001b[0m\u001b[0;34m\u001b[0m\u001b[0m\n\u001b[1;32m   1212\u001b[0m                     \u001b[0mcallbacks\u001b[0m\u001b[0;34m.\u001b[0m\u001b[0mon_batch_begin\u001b[0m\u001b[0;34m(\u001b[0m\u001b[0mbatch_index\u001b[0m\u001b[0;34m,\u001b[0m \u001b[0mbatch_logs\u001b[0m\u001b[0;34m)\u001b[0m\u001b[0;34m\u001b[0m\u001b[0;34m\u001b[0m\u001b[0m\n\u001b[0;32m-> 1213\u001b[0;31m                     \u001b[0mouts\u001b[0m \u001b[0;34m=\u001b[0m \u001b[0mf\u001b[0m\u001b[0;34m(\u001b[0m\u001b[0mins_batch\u001b[0m\u001b[0;34m)\u001b[0m\u001b[0;34m\u001b[0m\u001b[0;34m\u001b[0m\u001b[0m\n\u001b[0m\u001b[1;32m   1214\u001b[0m                     \u001b[0;32mif\u001b[0m \u001b[0;32mnot\u001b[0m \u001b[0misinstance\u001b[0m\u001b[0;34m(\u001b[0m\u001b[0mouts\u001b[0m\u001b[0;34m,\u001b[0m \u001b[0mlist\u001b[0m\u001b[0;34m)\u001b[0m\u001b[0;34m:\u001b[0m\u001b[0;34m\u001b[0m\u001b[0;34m\u001b[0m\u001b[0m\n\u001b[1;32m   1215\u001b[0m                         \u001b[0mouts\u001b[0m \u001b[0;34m=\u001b[0m \u001b[0;34m[\u001b[0m\u001b[0mouts\u001b[0m\u001b[0;34m]\u001b[0m\u001b[0;34m\u001b[0m\u001b[0;34m\u001b[0m\u001b[0m\n",
      "\u001b[0;32m/data/s1453440/anaconda3/envs/Tensorflow/lib/python3.6/site-packages/keras/backend/tensorflow_backend.py\u001b[0m in \u001b[0;36m__call__\u001b[0;34m(self, inputs)\u001b[0m\n\u001b[1;32m   2355\u001b[0m         \u001b[0msession\u001b[0m \u001b[0;34m=\u001b[0m \u001b[0mget_session\u001b[0m\u001b[0;34m(\u001b[0m\u001b[0;34m)\u001b[0m\u001b[0;34m\u001b[0m\u001b[0;34m\u001b[0m\u001b[0m\n\u001b[1;32m   2356\u001b[0m         updated = session.run(fetches=fetches, feed_dict=feed_dict,\n\u001b[0;32m-> 2357\u001b[0;31m                               **self.session_kwargs)\n\u001b[0m\u001b[1;32m   2358\u001b[0m         \u001b[0;32mreturn\u001b[0m \u001b[0mupdated\u001b[0m\u001b[0;34m[\u001b[0m\u001b[0;34m:\u001b[0m\u001b[0mlen\u001b[0m\u001b[0;34m(\u001b[0m\u001b[0mself\u001b[0m\u001b[0;34m.\u001b[0m\u001b[0moutputs\u001b[0m\u001b[0;34m)\u001b[0m\u001b[0;34m]\u001b[0m\u001b[0;34m\u001b[0m\u001b[0;34m\u001b[0m\u001b[0m\n\u001b[1;32m   2359\u001b[0m \u001b[0;34m\u001b[0m\u001b[0m\n",
      "\u001b[0;32m/data/s1453440/anaconda3/envs/Tensorflow/lib/python3.6/site-packages/tensorflow/python/client/session.py\u001b[0m in \u001b[0;36mrun\u001b[0;34m(self, fetches, feed_dict, options, run_metadata)\u001b[0m\n\u001b[1;32m    893\u001b[0m     \u001b[0;32mtry\u001b[0m\u001b[0;34m:\u001b[0m\u001b[0;34m\u001b[0m\u001b[0;34m\u001b[0m\u001b[0m\n\u001b[1;32m    894\u001b[0m       result = self._run(None, fetches, feed_dict, options_ptr,\n\u001b[0;32m--> 895\u001b[0;31m                          run_metadata_ptr)\n\u001b[0m\u001b[1;32m    896\u001b[0m       \u001b[0;32mif\u001b[0m \u001b[0mrun_metadata\u001b[0m\u001b[0;34m:\u001b[0m\u001b[0;34m\u001b[0m\u001b[0;34m\u001b[0m\u001b[0m\n\u001b[1;32m    897\u001b[0m         \u001b[0mproto_data\u001b[0m \u001b[0;34m=\u001b[0m \u001b[0mtf_session\u001b[0m\u001b[0;34m.\u001b[0m\u001b[0mTF_GetBuffer\u001b[0m\u001b[0;34m(\u001b[0m\u001b[0mrun_metadata_ptr\u001b[0m\u001b[0;34m)\u001b[0m\u001b[0;34m\u001b[0m\u001b[0;34m\u001b[0m\u001b[0m\n",
      "\u001b[0;32m/data/s1453440/anaconda3/envs/Tensorflow/lib/python3.6/site-packages/tensorflow/python/client/session.py\u001b[0m in \u001b[0;36m_run\u001b[0;34m(self, handle, fetches, feed_dict, options, run_metadata)\u001b[0m\n\u001b[1;32m   1126\u001b[0m     \u001b[0;32mif\u001b[0m \u001b[0mfinal_fetches\u001b[0m \u001b[0;32mor\u001b[0m \u001b[0mfinal_targets\u001b[0m \u001b[0;32mor\u001b[0m \u001b[0;34m(\u001b[0m\u001b[0mhandle\u001b[0m \u001b[0;32mand\u001b[0m \u001b[0mfeed_dict_tensor\u001b[0m\u001b[0;34m)\u001b[0m\u001b[0;34m:\u001b[0m\u001b[0;34m\u001b[0m\u001b[0;34m\u001b[0m\u001b[0m\n\u001b[1;32m   1127\u001b[0m       results = self._do_run(handle, final_targets, final_fetches,\n\u001b[0;32m-> 1128\u001b[0;31m                              feed_dict_tensor, options, run_metadata)\n\u001b[0m\u001b[1;32m   1129\u001b[0m     \u001b[0;32melse\u001b[0m\u001b[0;34m:\u001b[0m\u001b[0;34m\u001b[0m\u001b[0;34m\u001b[0m\u001b[0m\n\u001b[1;32m   1130\u001b[0m       \u001b[0mresults\u001b[0m \u001b[0;34m=\u001b[0m \u001b[0;34m[\u001b[0m\u001b[0;34m]\u001b[0m\u001b[0;34m\u001b[0m\u001b[0;34m\u001b[0m\u001b[0m\n",
      "\u001b[0;32m/data/s1453440/anaconda3/envs/Tensorflow/lib/python3.6/site-packages/tensorflow/python/client/session.py\u001b[0m in \u001b[0;36m_do_run\u001b[0;34m(self, handle, target_list, fetch_list, feed_dict, options, run_metadata)\u001b[0m\n\u001b[1;32m   1342\u001b[0m     \u001b[0;32mif\u001b[0m \u001b[0mhandle\u001b[0m \u001b[0;32mis\u001b[0m \u001b[0;32mNone\u001b[0m\u001b[0;34m:\u001b[0m\u001b[0;34m\u001b[0m\u001b[0;34m\u001b[0m\u001b[0m\n\u001b[1;32m   1343\u001b[0m       return self._do_call(_run_fn, self._session, feeds, fetches, targets,\n\u001b[0;32m-> 1344\u001b[0;31m                            options, run_metadata)\n\u001b[0m\u001b[1;32m   1345\u001b[0m     \u001b[0;32melse\u001b[0m\u001b[0;34m:\u001b[0m\u001b[0;34m\u001b[0m\u001b[0;34m\u001b[0m\u001b[0m\n\u001b[1;32m   1346\u001b[0m       \u001b[0;32mreturn\u001b[0m \u001b[0mself\u001b[0m\u001b[0;34m.\u001b[0m\u001b[0m_do_call\u001b[0m\u001b[0;34m(\u001b[0m\u001b[0m_prun_fn\u001b[0m\u001b[0;34m,\u001b[0m \u001b[0mself\u001b[0m\u001b[0;34m.\u001b[0m\u001b[0m_session\u001b[0m\u001b[0;34m,\u001b[0m \u001b[0mhandle\u001b[0m\u001b[0;34m,\u001b[0m \u001b[0mfeeds\u001b[0m\u001b[0;34m,\u001b[0m \u001b[0mfetches\u001b[0m\u001b[0;34m)\u001b[0m\u001b[0;34m\u001b[0m\u001b[0;34m\u001b[0m\u001b[0m\n",
      "\u001b[0;32m/data/s1453440/anaconda3/envs/Tensorflow/lib/python3.6/site-packages/tensorflow/python/client/session.py\u001b[0m in \u001b[0;36m_do_call\u001b[0;34m(self, fn, *args)\u001b[0m\n\u001b[1;32m   1348\u001b[0m   \u001b[0;32mdef\u001b[0m \u001b[0m_do_call\u001b[0m\u001b[0;34m(\u001b[0m\u001b[0mself\u001b[0m\u001b[0;34m,\u001b[0m \u001b[0mfn\u001b[0m\u001b[0;34m,\u001b[0m \u001b[0;34m*\u001b[0m\u001b[0margs\u001b[0m\u001b[0;34m)\u001b[0m\u001b[0;34m:\u001b[0m\u001b[0;34m\u001b[0m\u001b[0;34m\u001b[0m\u001b[0m\n\u001b[1;32m   1349\u001b[0m     \u001b[0;32mtry\u001b[0m\u001b[0;34m:\u001b[0m\u001b[0;34m\u001b[0m\u001b[0;34m\u001b[0m\u001b[0m\n\u001b[0;32m-> 1350\u001b[0;31m       \u001b[0;32mreturn\u001b[0m \u001b[0mfn\u001b[0m\u001b[0;34m(\u001b[0m\u001b[0;34m*\u001b[0m\u001b[0margs\u001b[0m\u001b[0;34m)\u001b[0m\u001b[0;34m\u001b[0m\u001b[0;34m\u001b[0m\u001b[0m\n\u001b[0m\u001b[1;32m   1351\u001b[0m     \u001b[0;32mexcept\u001b[0m \u001b[0merrors\u001b[0m\u001b[0;34m.\u001b[0m\u001b[0mOpError\u001b[0m \u001b[0;32mas\u001b[0m \u001b[0me\u001b[0m\u001b[0;34m:\u001b[0m\u001b[0;34m\u001b[0m\u001b[0;34m\u001b[0m\u001b[0m\n\u001b[1;32m   1352\u001b[0m       \u001b[0mmessage\u001b[0m \u001b[0;34m=\u001b[0m \u001b[0mcompat\u001b[0m\u001b[0;34m.\u001b[0m\u001b[0mas_text\u001b[0m\u001b[0;34m(\u001b[0m\u001b[0me\u001b[0m\u001b[0;34m.\u001b[0m\u001b[0mmessage\u001b[0m\u001b[0;34m)\u001b[0m\u001b[0;34m\u001b[0m\u001b[0;34m\u001b[0m\u001b[0m\n",
      "\u001b[0;32m/data/s1453440/anaconda3/envs/Tensorflow/lib/python3.6/site-packages/tensorflow/python/client/session.py\u001b[0m in \u001b[0;36m_run_fn\u001b[0;34m(session, feed_dict, fetch_list, target_list, options, run_metadata)\u001b[0m\n\u001b[1;32m   1327\u001b[0m           return tf_session.TF_Run(session, options,\n\u001b[1;32m   1328\u001b[0m                                    \u001b[0mfeed_dict\u001b[0m\u001b[0;34m,\u001b[0m \u001b[0mfetch_list\u001b[0m\u001b[0;34m,\u001b[0m \u001b[0mtarget_list\u001b[0m\u001b[0;34m,\u001b[0m\u001b[0;34m\u001b[0m\u001b[0;34m\u001b[0m\u001b[0m\n\u001b[0;32m-> 1329\u001b[0;31m                                    status, run_metadata)\n\u001b[0m\u001b[1;32m   1330\u001b[0m \u001b[0;34m\u001b[0m\u001b[0m\n\u001b[1;32m   1331\u001b[0m     \u001b[0;32mdef\u001b[0m \u001b[0m_prun_fn\u001b[0m\u001b[0;34m(\u001b[0m\u001b[0msession\u001b[0m\u001b[0;34m,\u001b[0m \u001b[0mhandle\u001b[0m\u001b[0;34m,\u001b[0m \u001b[0mfeed_dict\u001b[0m\u001b[0;34m,\u001b[0m \u001b[0mfetch_list\u001b[0m\u001b[0;34m)\u001b[0m\u001b[0;34m:\u001b[0m\u001b[0;34m\u001b[0m\u001b[0;34m\u001b[0m\u001b[0m\n",
      "\u001b[0;31mKeyboardInterrupt\u001b[0m: "
     ]
    }
   ],
   "source": [
    "%%time\n",
    "filepath = \"weights-improvementTime-{epoch:02d}-{loss:.4f}-bigger.hdf5\"    \n",
    "\n",
    "checkpoint = ModelCheckpoint(\n",
    "    filepath, monitor='loss', \n",
    "    verbose=0,        \n",
    "    save_best_only=True,        \n",
    "    mode='min'\n",
    ")    \n",
    "callbacks_list = [checkpoint]     \n",
    "\n",
    "model.fit(network_input, network_output, epochs=20, batch_size=64, callbacks=callbacks_list)"
   ]
  },
  {
   "cell_type": "markdown",
   "metadata": {},
   "source": [
    "## Generating Music"
   ]
  },
  {
   "cell_type": "code",
   "execution_count": 53,
   "metadata": {},
   "outputs": [],
   "source": [
    "from keras.models import load_model"
   ]
  },
  {
   "cell_type": "code",
   "execution_count": 22,
   "metadata": {},
   "outputs": [],
   "source": [
    "model = Sequential()\n",
    "model.add(layers.LSTM(\n",
    "    256,\n",
    "    input_shape=(network_input.shape[1], network_input.shape[2]),\n",
    "    return_sequences=True\n",
    "))\n",
    "model.add(layers.Dropout(0.3))\n",
    "model.add(layers.LSTM(256, return_sequences=True))\n",
    "model.add(layers.Dropout(0.3))\n",
    "model.add(layers.LSTM(256))\n",
    "model.add(layers.Dense(256))\n",
    "model.add(layers.Dropout(0.3))\n",
    "model.add(layers.Dense(len(times)))\n",
    "model.add(layers.Activation('softmax'))\n",
    "model.compile(loss='categorical_crossentropy', optimizer='rmsprop')"
   ]
  },
  {
   "cell_type": "code",
   "execution_count": 51,
   "metadata": {},
   "outputs": [],
   "source": [
    "# Load the weights to each node\n",
    "#model.load_weights(\"/home/s1453440/Projects/neural-networks-2/weights-improved-Time-01-4.3212-bigger.hdf5\")\n"
   ]
  },
  {
   "cell_type": "code",
   "execution_count": 54,
   "metadata": {},
   "outputs": [],
   "source": [
    "model = load_model(\"/data/s1453440/myModel.h5\")"
   ]
  },
  {
   "cell_type": "code",
   "execution_count": 92,
   "metadata": {},
   "outputs": [],
   "source": [
    "start = np.random.randint(0, len(network_input)-1)\n",
    "pattern = network_input[start]\n",
    "prediction_output = []\n",
    "\n",
    "inputs = []\n",
    "\n",
    "for note_index in range(500):\n",
    "    prediction_input = np.reshape(pattern, (1, len(pattern), 1))\n",
    "    #prediction_input = prediction_input / float(len(notes))\n",
    "    prediction = model.predict(prediction_input, verbose=0)\n",
    "\n",
    "    index = np.argmax(prediction)\n",
    "    result = index + 21\n",
    "    prediction_output.append(result)\n",
    "    pattern = np.append(pattern, index/float(len(notes)))\n",
    "    pattern = pattern[1:len(pattern)]"
   ]
  },
  {
   "cell_type": "code",
   "execution_count": 84,
   "metadata": {},
   "outputs": [],
   "source": [
    "output_notes = []\n",
    "mid = MidiFile()\n",
    "track = MidiTrack()\n",
    "mid.tracks.append(track)\n",
    "track.append(Message('program_change', program=0, time=0))\n",
    "\n",
    "for count,pnote in enumerate(prediction_output):\n",
    "    rand = np.random.randint(0,8)\n",
    "    interval = rand * 6\n",
    "    track.append(Message('note_on', note=pnote, velocity=64, time=60 + interval))\n",
    "    track.append(Message('note_off', note=pnote, velocity=127, time=60 + interval))\n",
    "        # increase offset each iteration so that notes do not stack\n",
    "mid.save('new_song.mid')"
   ]
  },
  {
   "cell_type": "markdown",
   "metadata": {},
   "source": [
    "### Random notes"
   ]
  },
  {
   "cell_type": "code",
   "execution_count": 85,
   "metadata": {},
   "outputs": [],
   "source": [
    "output_notes = []\n",
    "randmid = MidiFile()\n",
    "track = MidiTrack()\n",
    "randmid.tracks.append(track)\n",
    "track.append(Message('program_change', program=0, time=0))\n",
    "for count in range(500):\n",
    "    pnote = np.random.randint(0,127)\n",
    "    rand = np.random.randint(0,8)\n",
    "    interval = rand * 6\n",
    "    track.append(Message('note_on', note=pnote, velocity=64, time=60 + interval))\n",
    "    track.append(Message('note_off', note=pnote, velocity=127, time=60 + interval))\n",
    "        # increase offset each iteration so that notes do not stack\n",
    "randmid.save('rand_song.mid')"
   ]
  },
  {
   "cell_type": "markdown",
   "metadata": {},
   "source": [
    "End"
   ]
  },
  {
   "cell_type": "markdown",
   "metadata": {},
   "source": [
    "## Generating Rhythm:\n",
    "    "
   ]
  },
  {
   "cell_type": "code",
   "execution_count": 141,
   "metadata": {},
   "outputs": [],
   "source": [
    "midi = MidiFile(\"/home/s1453440/Projects/neural-networks-2/new_song.mid\")\n",
    "notesfromFile = []\n",
    "for track in midi.tracks:\n",
    "    for msg in track:\n",
    "        if not msg.is_meta and msg.type == 'note_on':\n",
    "            notesfromFile.append(msg.note)"
   ]
  },
  {
   "cell_type": "code",
   "execution_count": 142,
   "metadata": {},
   "outputs": [
    {
     "data": {
      "text/plain": [
       "500"
      ]
     },
     "execution_count": 142,
     "metadata": {},
     "output_type": "execute_result"
    }
   ],
   "source": [
    "len(notesfromFile)"
   ]
  },
  {
   "cell_type": "code",
   "execution_count": null,
   "metadata": {},
   "outputs": [],
   "source": []
  },
  {
   "cell_type": "code",
   "execution_count": 155,
   "metadata": {},
   "outputs": [],
   "source": [
    "start = np.random.randint(0, len(network_input)-1)\n",
    "pattern = network_input[start]\n",
    "prediction_output = []\n",
    "inputs = []\n",
    "\n",
    "for note_index in range(len(notesfromFile)):\n",
    "    prediction_input = np.reshape(pattern, (1, len(pattern),2 ))\n",
    "    #prediction_input = prediction_input / float(len(notes))\n",
    "    prediction = model.predict(prediction_input, verbose=0)\n",
    "    index = np.argmax(prediction)\n",
    "    result = int_to_time[index]\n",
    "    next_note = notes[note_index]/len(notes)\n",
    "    if note_index > 10:\n",
    "        if prediction_output[note_index -4] == prediction_output[note_index -3]: \n",
    "            if prediction_output[note_index - 3] == prediction_output[-2]:\n",
    "                if prediction_output[note_index - 2] == prediction_output[note_index - 1]:\n",
    "                    rand = np.random.randint(0,8)\n",
    "                    result = rand * 6\n",
    "    prediction_output.append(result)\n",
    "    arr = np.array([next_note, time_to_int[result]/len(times)])\n",
    "    pattern = np.vstack((pattern,arr))\n",
    "    pattern = pattern[1:len(pattern)]"
   ]
  },
  {
   "cell_type": "code",
   "execution_count": 159,
   "metadata": {},
   "outputs": [],
   "source": [
    "output_notes = []\n",
    "mid = MidiFile()\n",
    "track = MidiTrack()\n",
    "mid.tracks.append(track)\n",
    "track.append(Message('program_change', program=0, time=0))\n",
    "\n",
    "notesfromFile\n",
    "for pnote,interval in zip(notesfromFile, prediction_output):\n",
    "    rand = np.random.randint(0,4)\n",
    "    if interval < 10:\n",
    "        interval = rand * 3\n",
    "    track.append(Message('note_on', note=pnote, velocity=64, time=100 + interval))\n",
    "    track.append(Message('note_off', note=pnote, velocity=127, time=100 + interval))\n",
    "        # increase offset each iteration so that notes do not stack\n",
    "mid.save('song_ryhtm.mid')"
   ]
  },
  {
   "cell_type": "code",
   "execution_count": 163,
   "metadata": {},
   "outputs": [],
   "source": [
    "import matplotlib.pyplot as plt"
   ]
  },
  {
   "cell_type": "code",
   "execution_count": 177,
   "metadata": {},
   "outputs": [],
   "source": [
    "epoch = [1,2,3,4,5,6,7,8,9,10]\n",
    "lossR = [3.34, 4.35, 4.36, 4.34, 4.40, 4.41, 4.38, 4.39, 4.41, 4.37]\n",
    "lossN = [3.19, 3.18, 3.167, 3.165, 3.168, 3.18, 3.17, 3.17, 3.175, 3.18]"
   ]
  },
  {
   "cell_type": "code",
   "execution_count": 178,
   "metadata": {},
   "outputs": [
    {
     "data": {
      "image/png": "[encoded data removed]",
      "text/plain": [
       "<Figure size 432x288 with 1 Axes>"
      ]
     },
     "metadata": {
      "needs_background": "light"
     },
     "output_type": "display_data"
    }
   ],
   "source": [
    "plt.plot(epoch, lossN)\n",
    "plt.xlabel('Epochs')\n",
    "plt.ylabel('Loss')\n",
    "plt.title('Loss per Epoch')\n",
    "plt.savefig(\"loss_epoch\")"
   ]
  }
 ],
 "metadata": {
  "kernelspec": {
   "display_name": "Python 3",
   "language": "python",
   "name": "python3"
  },
  "language_info": {
   "codemirror_mode": {
    "name": "ipython",
    "version": 3
   },
   "file_extension": ".py",
   "mimetype": "text/x-python",
   "name": "python",
   "nbconvert_exporter": "python",
   "pygments_lexer": "ipython3",
   "version": "3.7.1"
  }
 },
 "nbformat": 4,
 "nbformat_minor": 2
}

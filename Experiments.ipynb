{
 "cells": [
  {
   "cell_type": "code",
   "execution_count": 1,
   "metadata": {},
   "outputs": [
    {
     "name": "stderr",
     "output_type": "stream",
     "text": [
      "Using TensorFlow backend.\n"
     ]
    }
   ],
   "source": [
    "from keras.datasets import mnist\n",
    "import matplotlib.pyplot as plt\n",
    "from keras.utils import to_categorical\n",
    "from keras.models import Sequential\n",
    "from keras.layers import Dense, Conv2D, Flatten\n",
    "import numpy as np\n",
    "import matplotlib.pyplot as plt\n",
    "#import warnings\n",
    "#warnings.filterwarnings('ignore')"
   ]
  },
  {
   "cell_type": "code",
   "execution_count": 2,
   "metadata": {},
   "outputs": [
    {
     "data": {
      "text/plain": [
       "'3.6.8 |Anaconda custom (64-bit)| (default, Dec 30 2018, 01:22:34) \\n[GCC 7.3.0]'"
      ]
     },
     "execution_count": 2,
     "metadata": {},
     "output_type": "execute_result"
    }
   ],
   "source": []
  },
  {
   "cell_type": "code",
   "execution_count": 6,
   "metadata": {},
   "outputs": [
    {
     "data": {
      "text/plain": [
       "10000"
      ]
     },
     "execution_count": 6,
     "metadata": {},
     "output_type": "execute_result"
    }
   ],
   "source": [
    "(X_train, y_train), (X_test, y_test) = mnist.load_data()\n",
    "# Example\n",
    "len(X_test)"
   ]
  },
  {
   "cell_type": "markdown",
   "metadata": {},
   "source": [
    "# CNN"
   ]
  },
  {
   "cell_type": "code",
   "execution_count": 4,
   "metadata": {},
   "outputs": [
    {
     "data": {
      "text/plain": [
       "(60000, 28, 28)"
      ]
     },
     "execution_count": 4,
     "metadata": {},
     "output_type": "execute_result"
    }
   ],
   "source": [
    "X_train.shape "
   ]
  },
  {
   "cell_type": "code",
   "execution_count": 7,
   "metadata": {},
   "outputs": [],
   "source": [
    "X_train = X_train.reshape(60000,28,28,1)\n",
    "X_test = X_test.reshape(10000,28,28,1)\n",
    "\n",
    "#one-hot encode target column\n",
    "y_train = to_categorical(y_train)\n",
    "y_test = to_categorical(y_test)\n"
   ]
  },
  {
   "cell_type": "markdown",
   "metadata": {},
   "source": [
    "create the  model"
   ]
  },
  {
   "cell_type": "code",
   "execution_count": 28,
   "metadata": {},
   "outputs": [],
   "source": [
    "#create model\n",
    "model = Sequential()\n",
    "\n",
    "#add model layers\n",
    "model.add(Conv2D(64, kernel_size=3, activation='relu', input_shape=(28,28,1)))\n",
    "model.add(Conv2D(32, kernel_size=3, activation='relu'))\n",
    "model.add(Flatten())\n",
    "model.add(Dense(10, activation='softmax'))\n",
    "#compile model using accuracy to measure model performance\n",
    "model.compile(optimizer='adam', loss='categorical_crossentropy', metrics=['accuracy'])"
   ]
  },
  {
   "cell_type": "markdown",
   "metadata": {},
   "source": [
    "Compile and train our model"
   ]
  },
  {
   "cell_type": "code",
   "execution_count": 49,
   "metadata": {},
   "outputs": [
    {
     "data": {
      "text/plain": [
       "[0.5911937991852562, 0.10451908478538195, 0.07817476152765254]"
      ]
     },
     "execution_count": 49,
     "metadata": {},
     "output_type": "execute_result"
    }
   ],
   "source": [
    "#train the model\n",
    "#sigmoid = model.fit(X_train, y_train, validation_data=(X_test, y_test), epochs=3)\n",
    "sigmoid.history['loss']"
   ]
  },
  {
   "cell_type": "markdown",
   "metadata": {},
   "source": [
    "Now evaluate on test set"
   ]
  },
  {
   "cell_type": "code",
   "execution_count": 50,
   "metadata": {},
   "outputs": [
    {
     "data": {
      "text/html": [
       "<div>\n",
       "<style scoped>\n",
       "    .dataframe tbody tr th:only-of-type {\n",
       "        vertical-align: middle;\n",
       "    }\n",
       "\n",
       "    .dataframe tbody tr th {\n",
       "        vertical-align: top;\n",
       "    }\n",
       "\n",
       "    .dataframe thead th {\n",
       "        text-align: right;\n",
       "    }\n",
       "</style>\n",
       "<table border=\"1\" class=\"dataframe\">\n",
       "  <thead>\n",
       "    <tr style=\"text-align: right;\">\n",
       "      <th></th>\n",
       "      <th>accuracy</th>\n",
       "      <th>loss</th>\n",
       "      <th>seconds/epoch</th>\n",
       "      <th>type</th>\n",
       "    </tr>\n",
       "  </thead>\n",
       "  <tbody>\n",
       "    <tr>\n",
       "      <th>0</th>\n",
       "      <td>0.9864</td>\n",
       "      <td>0.043</td>\n",
       "      <td>82</td>\n",
       "      <td>2 layers + relu</td>\n",
       "    </tr>\n",
       "    <tr>\n",
       "      <th>1</th>\n",
       "      <td>0.9852</td>\n",
       "      <td>0.045</td>\n",
       "      <td>99</td>\n",
       "      <td>3 layers + relu</td>\n",
       "    </tr>\n",
       "    <tr>\n",
       "      <th>2</th>\n",
       "      <td>0.9716</td>\n",
       "      <td>0.302</td>\n",
       "      <td>86</td>\n",
       "      <td>2 layers + tanh</td>\n",
       "    </tr>\n",
       "    <tr>\n",
       "      <th>3</th>\n",
       "      <td>0.9761</td>\n",
       "      <td>0.078</td>\n",
       "      <td>88</td>\n",
       "      <td>2 layers + sigmoid</td>\n",
       "    </tr>\n",
       "  </tbody>\n",
       "</table>\n",
       "</div>"
      ],
      "text/plain": [
       "   accuracy   loss  seconds/epoch                type\n",
       "0    0.9864  0.043             82     2 layers + relu\n",
       "1    0.9852  0.045             99     3 layers + relu\n",
       "2    0.9716  0.302             86     2 layers + tanh\n",
       "3    0.9761  0.078             88  2 layers + sigmoid"
      ]
     },
     "execution_count": 50,
     "metadata": {},
     "output_type": "execute_result"
    }
   ],
   "source": [
    "d = {'accuracy': [0.9864,0.9852,0.9716,0.9761],\n",
    "     'loss':[0.043,0.045,0.302,0.078] ,\n",
    "     'seconds/epoch' :[82, 99, 86, 88], \n",
    "     'type':['2 layers + relu','3 layers + relu',' 2 layers + tanh','2 layers + sigmoid']  }\n",
    "\n",
    "df = pd.DataFrame(data=d)\n",
    "df"
   ]
  },
  {
   "cell_type": "code",
   "execution_count": 56,
   "metadata": {},
   "outputs": [
    {
     "name": "stdout",
     "output_type": "stream",
     "text": [
      "High five! You successfully sent some data to your account on plotly. View your plot in your browser at https://plot.ly/~paulpeters52/0 or inside your plot.ly account where it is named 'parcoords-basic'\n"
     ]
    },
    {
     "data": {
      "text/html": [
       "<iframe id=\"igraph\" scrolling=\"no\" style=\"border:none;\" seamless=\"seamless\" src=\"https://plot.ly/~paulpeters52/0.embed\" height=\"525px\" width=\"100%\"></iframe>"
      ],
      "text/plain": [
       "<chart_studio.tools.PlotlyDisplay object>"
      ]
     },
     "execution_count": 56,
     "metadata": {},
     "output_type": "execute_result"
    }
   ],
   "source": [
    "#print(CNN3.history['acc']) #99s 2ms/step 3 layers + relu \n",
    "#print(CNN2.history['acc']) # 82s 1ms/step 2 layers + relu\n",
    "#tanh # 86s 1ms/step 2 layers + tanh\n",
    "#sigmoid # 88s 1ms/step 2 layers + sigmoid\n",
    "#history2 # 3 layers\n",
    "\n",
    "import plotly.plotly as py\n",
    "import plotly.tools as tool\n",
    "import plotly.graph_objs as go\n",
    "import pandas as pd \n",
    "tool.set_credentials_file(username='paulpeters52', api_key= 'eqPlm0Cs3ruRCJAAVnQl')\n",
    "\n",
    "data = [\n",
    "    go.Parcoords(\n",
    "        line = dict(color = [1, 2 ,3, 4],\n",
    "                   colorscale = [[0,'#D7C16B'],[0.5,'#23D8C3'],[1,'#F3F10F'], [1,'#45f442']]),\n",
    "        dimensions = list([\n",
    "            dict(range = [0.9, 1],\n",
    "                label = 'Accuracy', values = df['accuracy']),\n",
    "            dict(range = [0.31, 0.04],\n",
    "                label = 'Loss', values = df['loss']),\n",
    "            dict(range = [100, 80],\n",
    "                label = 'Seconds/epoch', values = df['seconds/epoch']),\n",
    "        ])\n",
    "    )\n",
    "]\n",
    "\n",
    "layout = go.Layout(\n",
    "    plot_bgcolor = '#ffffff',\n",
    "    paper_bgcolor = '#ffffff'\n",
    ")\n",
    "fig = go.Figure(data = data, layout = layout)\n",
    "py.iplot(fig, filename = 'parcoords-basic')\n",
    "\n",
    "\n"
   ]
  },
  {
   "cell_type": "markdown",
   "metadata": {},
   "source": [
    "# RNN"
   ]
  },
  {
   "cell_type": "code",
   "execution_count": 63,
   "metadata": {},
   "outputs": [],
   "source": [
    "import tensorflow as tf\n",
    "from keras.layers import Dropout, LSTM\n",
    "from keras import optimizers"
   ]
  },
  {
   "cell_type": "markdown",
   "metadata": {},
   "source": [
    "Setting up the training and network parameters"
   ]
  },
  {
   "cell_type": "code",
   "execution_count": 73,
   "metadata": {},
   "outputs": [],
   "source": [
    "(X_train, y_train), (X_test, y_test) = mnist.load_data()\n",
    "\n",
    "x_train = X_train/255.0\n",
    "x_test = X_test/255.0"
   ]
  },
  {
   "cell_type": "code",
   "execution_count": 105,
   "metadata": {},
   "outputs": [],
   "source": [
    "model = Sequential()\n",
    "model.add(LSTM(128, input_shape=(x_train.shape[1:]), activation='relu', return_sequences=True))\n",
    "model.add(Flatten())\n",
    "model.add(Dense(10, activation='softmax'))"
   ]
  },
  {
   "cell_type": "code",
   "execution_count": 106,
   "metadata": {},
   "outputs": [
    {
     "name": "stdout",
     "output_type": "stream",
     "text": [
      "Train on 60000 samples, validate on 10000 samples\n",
      "Epoch 1/3\n",
      "60000/60000 [==============================] - 35s 586us/step - loss: 1.3397 - acc: 0.6525 - val_loss: 0.5042 - val_acc: 0.8524\n",
      "Epoch 2/3\n",
      "60000/60000 [==============================] - 32s 535us/step - loss: 0.4492 - acc: 0.8702 - val_loss: 0.3701 - val_acc: 0.8918\n",
      "Epoch 3/3\n",
      "60000/60000 [==============================] - 32s 540us/step - loss: 0.3302 - acc: 0.9019 - val_loss: 0.2609 - val_acc: 0.9216\n"
     ]
    },
    {
     "data": {
      "text/plain": [
       "<keras.callbacks.History at 0x7f4b3c937550>"
      ]
     },
     "execution_count": 106,
     "metadata": {},
     "output_type": "execute_result"
    }
   ],
   "source": [
    "opt = optimizers.SGD(lr=0.005, decay=1e-6)\n",
    "\n",
    "model.compile(\n",
    "    loss='sparse_categorical_crossentropy',\n",
    "    optimizer=opt,\n",
    "    metrics=['accuracy'],\n",
    ")\n",
    "\n",
    "model.fit(x_train,\n",
    "          y_train,\n",
    "          epochs=3,\n",
    "          validation_data=(x_test, y_test))\n"
   ]
  },
  {
   "cell_type": "code",
   "execution_count": 110,
   "metadata": {},
   "outputs": [],
   "source": [
    "d = {'type': ['2 layers','1 layer w flatten', '1 l + SGD'], 'acc': [0.97,0.98,0.90 ], 'loss': [0.08, 0.05,0.33  ], \n",
    "    'time':[65,35, 32 ]}\n",
    "df = pd.DataFrame(data=d)"
   ]
  },
  {
   "cell_type": "code",
   "execution_count": 111,
   "metadata": {},
   "outputs": [
    {
     "data": {
      "text/html": [
       "<iframe id=\"igraph\" scrolling=\"no\" style=\"border:none;\" seamless=\"seamless\" src=\"https://plot.ly/~paulpeters52/2.embed\" height=\"525px\" width=\"100%\"></iframe>"
      ],
      "text/plain": [
       "<chart_studio.tools.PlotlyDisplay object>"
      ]
     },
     "execution_count": 111,
     "metadata": {},
     "output_type": "execute_result"
    }
   ],
   "source": [
    "data = [\n",
    "    go.Parcoords(\n",
    "        line = dict(color = [1, 2 ,3],\n",
    "                   colorscale = [[0,'#D7C16B'],[0.5,'#23D8C3'],[1,'#F3F10F']]),\n",
    "        dimensions = list([\n",
    "            dict(range = [0.9, 1],\n",
    "                label = 'Accuracy', values = df['acc']),\n",
    "            dict(range = [0.35, 0.04],\n",
    "                label = 'Loss', values = df['loss']),\n",
    "            dict(range = [68, 30],\n",
    "                label = 'Seconds/epoch', values = df['time']),\n",
    "        ])\n",
    "    )\n",
    "]\n",
    "\n",
    "layout = go.Layout(\n",
    "    plot_bgcolor = '#ffffff',\n",
    "    paper_bgcolor = '#ffffff'\n",
    ")\n",
    "fig = go.Figure(data = data, layout = layout)\n",
    "py.iplot(fig, filename = 'parcoords-RNN')\n",
    "\n"
   ]
  },
  {
   "cell_type": "markdown",
   "metadata": {},
   "source": [
    "# Auto-Encoders"
   ]
  },
  {
   "cell_type": "code",
   "execution_count": 112,
   "metadata": {},
   "outputs": [],
   "source": [
    "from keras.datasets import mnist\n",
    "from keras.layers import Input, Dense\n",
    "from keras.models import Model\n",
    "\n",
    "import numpy as np\n",
    "import pandas as pd\n",
    "import matplotlib.pyplot as plt\n",
    "\n",
    "%matplotlib inline"
   ]
  },
  {
   "cell_type": "code",
   "execution_count": 113,
   "metadata": {},
   "outputs": [
    {
     "name": "stdout",
     "output_type": "stream",
     "text": [
      "(60000, 28, 28)\n",
      "(10000, 28, 28)\n",
      "(60000, 784)\n",
      "(10000, 784)\n"
     ]
    }
   ],
   "source": [
    "(X_train, y_train), (X_test, y_test) = mnist.load_data()\n",
    "\n",
    "\n",
    "X_train = X_train.astype('float32')/255\n",
    "X_test = X_test.astype('float32')/255\n",
    "print(X_train.shape)\n",
    "print(X_test.shape)\n",
    "X_train = X_train.reshape(len(X_train), np.prod(X_train.shape[1:]))\n",
    "X_test = X_test.reshape(len(X_test), np.prod(X_test.shape[1:]))\n",
    "\n",
    "print(X_train.shape)\n",
    "print(X_test.shape)"
   ]
  },
  {
   "cell_type": "code",
   "execution_count": 44,
   "metadata": {},
   "outputs": [
    {
     "name": "stdout",
     "output_type": "stream",
     "text": [
      "_________________________________________________________________\n",
      "Layer (type)                 Output Shape              Param #   \n",
      "=================================================================\n",
      "input_1 (InputLayer)         (None, 784)               0         \n",
      "_________________________________________________________________\n",
      "dense_3 (Dense)              (None, 32)                25120     \n",
      "_________________________________________________________________\n",
      "dense_4 (Dense)              (None, 784)               25872     \n",
      "=================================================================\n",
      "Total params: 50,992\n",
      "Trainable params: 50,992\n",
      "Non-trainable params: 0\n",
      "_________________________________________________________________\n"
     ]
    }
   ],
   "source": [
    "input_img= Input(shape=(784,))\n",
    "encoded = Dense(units=32, activation='relu')(input_img)\n",
    "decoded = Dense(units=784, activation='sigmoid')(encoded)\n",
    "\n",
    "autoencoder=Model(input_img, decoded)\n",
    "\n",
    "\n",
    "autoencoder.summary()"
   ]
  },
  {
   "cell_type": "code",
   "execution_count": 45,
   "metadata": {},
   "outputs": [
    {
     "name": "stdout",
     "output_type": "stream",
     "text": [
      "_________________________________________________________________\n",
      "Layer (type)                 Output Shape              Param #   \n",
      "=================================================================\n",
      "input_1 (InputLayer)         (None, 784)               0         \n",
      "_________________________________________________________________\n",
      "dense_3 (Dense)              (None, 32)                25120     \n",
      "=================================================================\n",
      "Total params: 25,120\n",
      "Trainable params: 25,120\n",
      "Non-trainable params: 0\n",
      "_________________________________________________________________\n"
     ]
    }
   ],
   "source": [
    "encoder = Model(input_img, encoded)\n",
    "encoder.summary()"
   ]
  },
  {
   "cell_type": "code",
   "execution_count": 46,
   "metadata": {},
   "outputs": [
    {
     "name": "stdout",
     "output_type": "stream",
     "text": [
      "Train on 60000 samples, validate on 10000 samples\n",
      "Epoch 1/50\n",
      "60000/60000 [==============================] - 2s 32us/step - loss: 0.3651 - acc: 0.7518 - val_loss: 0.2725 - val_acc: 0.7941\n",
      "Epoch 2/50\n",
      "60000/60000 [==============================] - 1s 24us/step - loss: 0.2655 - acc: 0.7976 - val_loss: 0.2554 - val_acc: 0.7986\n",
      "Epoch 3/50\n",
      "60000/60000 [==============================] - 1s 24us/step - loss: 0.2447 - acc: 0.7981 - val_loss: 0.2321 - val_acc: 0.7977\n",
      "Epoch 4/50\n",
      "60000/60000 [==============================] - 1s 24us/step - loss: 0.2234 - acc: 0.7977 - val_loss: 0.2129 - val_acc: 0.7975\n",
      "Epoch 5/50\n",
      "60000/60000 [==============================] - 1s 23us/step - loss: 0.2073 - acc: 0.7985 - val_loss: 0.1994 - val_acc: 0.7986\n",
      "Epoch 6/50\n",
      "60000/60000 [==============================] - 1s 24us/step - loss: 0.1957 - acc: 0.7997 - val_loss: 0.1896 - val_acc: 0.8001\n",
      "Epoch 7/50\n",
      "60000/60000 [==============================] - 1s 22us/step - loss: 0.1870 - acc: 0.8009 - val_loss: 0.1818 - val_acc: 0.8006\n",
      "Epoch 8/50\n",
      "60000/60000 [==============================] - 1s 22us/step - loss: 0.1800 - acc: 0.8020 - val_loss: 0.1756 - val_acc: 0.8021\n",
      "Epoch 9/50\n",
      "60000/60000 [==============================] - 1s 22us/step - loss: 0.1741 - acc: 0.8031 - val_loss: 0.1701 - val_acc: 0.8029\n",
      "Epoch 10/50\n",
      "60000/60000 [==============================] - 1s 24us/step - loss: 0.1690 - acc: 0.8039 - val_loss: 0.1654 - val_acc: 0.8039\n",
      "Epoch 11/50\n",
      "60000/60000 [==============================] - 1s 23us/step - loss: 0.1645 - acc: 0.8047 - val_loss: 0.1611 - val_acc: 0.8046\n",
      "Epoch 12/50\n",
      "60000/60000 [==============================] - 1s 23us/step - loss: 0.1604 - acc: 0.8053 - val_loss: 0.1574 - val_acc: 0.8056\n",
      "Epoch 13/50\n",
      "60000/60000 [==============================] - 1s 24us/step - loss: 0.1567 - acc: 0.8060 - val_loss: 0.1536 - val_acc: 0.8058\n",
      "Epoch 14/50\n",
      "60000/60000 [==============================] - 1s 22us/step - loss: 0.1532 - acc: 0.8066 - val_loss: 0.1503 - val_acc: 0.8064\n",
      "Epoch 15/50\n",
      "60000/60000 [==============================] - 1s 24us/step - loss: 0.1500 - acc: 0.8071 - val_loss: 0.1470 - val_acc: 0.8066\n",
      "Epoch 16/50\n",
      "60000/60000 [==============================] - 1s 23us/step - loss: 0.1470 - acc: 0.8076 - val_loss: 0.1442 - val_acc: 0.8073\n",
      "Epoch 17/50\n",
      "60000/60000 [==============================] - 1s 23us/step - loss: 0.1442 - acc: 0.8080 - val_loss: 0.1415 - val_acc: 0.8077\n",
      "Epoch 18/50\n",
      "60000/60000 [==============================] - 1s 22us/step - loss: 0.1416 - acc: 0.8084 - val_loss: 0.1390 - val_acc: 0.8080\n",
      "Epoch 19/50\n",
      "60000/60000 [==============================] - 1s 22us/step - loss: 0.1392 - acc: 0.8088 - val_loss: 0.1366 - val_acc: 0.8084\n",
      "Epoch 20/50\n",
      "60000/60000 [==============================] - 1s 23us/step - loss: 0.1370 - acc: 0.8092 - val_loss: 0.1344 - val_acc: 0.8087\n",
      "Epoch 21/50\n",
      "60000/60000 [==============================] - 1s 23us/step - loss: 0.1348 - acc: 0.8095 - val_loss: 0.1324 - val_acc: 0.8091\n",
      "Epoch 22/50\n",
      "60000/60000 [==============================] - 1s 23us/step - loss: 0.1328 - acc: 0.8098 - val_loss: 0.1303 - val_acc: 0.8092\n",
      "Epoch 23/50\n",
      "60000/60000 [==============================] - 1s 22us/step - loss: 0.1308 - acc: 0.8101 - val_loss: 0.1284 - val_acc: 0.8095\n",
      "Epoch 24/50\n",
      "60000/60000 [==============================] - 1s 23us/step - loss: 0.1290 - acc: 0.8104 - val_loss: 0.1267 - val_acc: 0.8098\n",
      "Epoch 25/50\n",
      "60000/60000 [==============================] - 1s 21us/step - loss: 0.1272 - acc: 0.8106 - val_loss: 0.1249 - val_acc: 0.8100\n",
      "Epoch 26/50\n",
      "60000/60000 [==============================] - 1s 22us/step - loss: 0.1255 - acc: 0.8109 - val_loss: 0.1232 - val_acc: 0.8102\n",
      "Epoch 27/50\n",
      "60000/60000 [==============================] - 1s 21us/step - loss: 0.1239 - acc: 0.8111 - val_loss: 0.1216 - val_acc: 0.8104\n",
      "Epoch 28/50\n",
      "60000/60000 [==============================] - 1s 23us/step - loss: 0.1223 - acc: 0.8113 - val_loss: 0.1201 - val_acc: 0.8107\n",
      "Epoch 29/50\n",
      "60000/60000 [==============================] - 1s 21us/step - loss: 0.1209 - acc: 0.8115 - val_loss: 0.1187 - val_acc: 0.8108\n",
      "Epoch 30/50\n",
      "60000/60000 [==============================] - 1s 23us/step - loss: 0.1195 - acc: 0.8117 - val_loss: 0.1173 - val_acc: 0.8110\n",
      "Epoch 31/50\n",
      "60000/60000 [==============================] - 1s 23us/step - loss: 0.1181 - acc: 0.8119 - val_loss: 0.1160 - val_acc: 0.8111\n",
      "Epoch 32/50\n",
      "60000/60000 [==============================] - 1s 21us/step - loss: 0.1169 - acc: 0.8120 - val_loss: 0.1148 - val_acc: 0.8113\n",
      "Epoch 33/50\n",
      "60000/60000 [==============================] - 1s 22us/step - loss: 0.1157 - acc: 0.8122 - val_loss: 0.1137 - val_acc: 0.8115\n",
      "Epoch 34/50\n",
      "60000/60000 [==============================] - 1s 24us/step - loss: 0.1146 - acc: 0.8123 - val_loss: 0.1126 - val_acc: 0.8116\n",
      "Epoch 35/50\n",
      "60000/60000 [==============================] - 1s 23us/step - loss: 0.1136 - acc: 0.8124 - val_loss: 0.1116 - val_acc: 0.8117\n",
      "Epoch 36/50\n",
      "60000/60000 [==============================] - 1s 22us/step - loss: 0.1126 - acc: 0.8125 - val_loss: 0.1106 - val_acc: 0.8118\n",
      "Epoch 37/50\n",
      "60000/60000 [==============================] - 1s 22us/step - loss: 0.1117 - acc: 0.8127 - val_loss: 0.1098 - val_acc: 0.8119\n",
      "Epoch 38/50\n",
      "60000/60000 [==============================] - 1s 24us/step - loss: 0.1109 - acc: 0.8127 - val_loss: 0.1089 - val_acc: 0.8120\n",
      "Epoch 39/50\n",
      "60000/60000 [==============================] - 1s 22us/step - loss: 0.1101 - acc: 0.8128 - val_loss: 0.1081 - val_acc: 0.8120\n",
      "Epoch 40/50\n",
      "60000/60000 [==============================] - 1s 24us/step - loss: 0.1093 - acc: 0.8129 - val_loss: 0.1074 - val_acc: 0.8122\n",
      "Epoch 41/50\n",
      "60000/60000 [==============================] - 1s 22us/step - loss: 0.1086 - acc: 0.8130 - val_loss: 0.1068 - val_acc: 0.8122\n",
      "Epoch 42/50\n",
      "60000/60000 [==============================] - 1s 24us/step - loss: 0.1080 - acc: 0.8130 - val_loss: 0.1061 - val_acc: 0.8122\n",
      "Epoch 43/50\n",
      "60000/60000 [==============================] - 1s 21us/step - loss: 0.1074 - acc: 0.8131 - val_loss: 0.1056 - val_acc: 0.8123\n",
      "Epoch 44/50\n",
      "60000/60000 [==============================] - 1s 21us/step - loss: 0.1068 - acc: 0.8132 - val_loss: 0.1050 - val_acc: 0.8123\n",
      "Epoch 45/50\n",
      "60000/60000 [==============================] - 1s 23us/step - loss: 0.1063 - acc: 0.8132 - val_loss: 0.1045 - val_acc: 0.8123\n",
      "Epoch 46/50\n",
      "60000/60000 [==============================] - 1s 23us/step - loss: 0.1058 - acc: 0.8132 - val_loss: 0.1041 - val_acc: 0.8124\n",
      "Epoch 47/50\n",
      "60000/60000 [==============================] - 1s 22us/step - loss: 0.1054 - acc: 0.8133 - val_loss: 0.1036 - val_acc: 0.8124\n",
      "Epoch 48/50\n",
      "60000/60000 [==============================] - 1s 22us/step - loss: 0.1050 - acc: 0.8133 - val_loss: 0.1032 - val_acc: 0.8125\n",
      "Epoch 49/50\n",
      "60000/60000 [==============================] - 1s 23us/step - loss: 0.1046 - acc: 0.8134 - val_loss: 0.1028 - val_acc: 0.8125\n",
      "Epoch 50/50\n",
      "60000/60000 [==============================] - 1s 22us/step - loss: 0.1042 - acc: 0.8134 - val_loss: 0.1025 - val_acc: 0.8125\n"
     ]
    },
    {
     "data": {
      "text/plain": [
       "<keras.callbacks.History at 0x7f953174cdd8>"
      ]
     },
     "execution_count": 46,
     "metadata": {},
     "output_type": "execute_result"
    }
   ],
   "source": [
    "autoencoder.compile(optimizer='adadelta', loss='binary_crossentropy', metrics=['accuracy'])\n",
    "\n",
    "Ae = autoencoder.fit(X_train, X_train,\n",
    "                epochs=50,\n",
    "                batch_size=256,\n",
    "                shuffle=True,\n",
    "                validation_data=(X_test, X_test),\n",
    "                    callbacks=[TensorBoard(log_dir='/tmp/autoencoder')])"
   ]
  },
  {
   "cell_type": "code",
   "execution_count": 48,
   "metadata": {},
   "outputs": [],
   "source": [
    "encoded_imgs = encoder.predict(X_test)\n",
    "predicted = autoencoder.predict(X_test)"
   ]
  },
  {
   "cell_type": "code",
   "execution_count": 52,
   "metadata": {},
   "outputs": [
    {
     "data": {
      "image/png": "[encoded data removed]",
      "text/plain": [
       "<Figure size 2880x288 with 30 Axes>"
      ]
     },
     "metadata": {
      "needs_background": "light"
     },
     "output_type": "display_data"
    }
   ],
   "source": [
    "plt.figure(figsize=(40, 4))\n",
    "for i in range(10):\n",
    "    # display original\n",
    "    ax = plt.subplot(3, 20, i + 1)\n",
    "    plt.imshow(X_test[i].reshape(28, 28))\n",
    "    plt.gray()\n",
    "    ax.get_xaxis().set_visible(False)\n",
    "    ax.get_yaxis().set_visible(False)\n",
    "    \n",
    "    # display encoded image\n",
    "    ax = plt.subplot(3, 20, i + 1 + 20)\n",
    "    plt.imshow(encoded_imgs[i].reshape(8,4))\n",
    "    plt.gray()\n",
    "    ax.get_xaxis().set_visible(False)\n",
    "    ax.get_yaxis().set_visible(False)\n",
    "\n",
    "    # display reconstruction\n",
    "    ax = plt.subplot(3, 20, 2*20 +i+ 1)\n",
    "    plt.imshow(predicted[i].reshape(28, 28))\n",
    "    plt.gray()\n",
    "    ax.get_xaxis().set_visible(False)\n",
    "    ax.get_yaxis().set_visible(False)\n",
    "    \n",
    "    \n",
    "plt.savefig(\"ae.jpg\")\n",
    "plt.show()"
   ]
  },
  {
   "cell_type": "code",
   "execution_count": 51,
   "metadata": {},
   "outputs": [
    {
     "data": {
      "text/plain": [
       "<Figure size 432x288 with 0 Axes>"
      ]
     },
     "metadata": {},
     "output_type": "display_data"
    }
   ],
   "source": [
    "plt.savefig(\"ae.jpg\")"
   ]
  },
  {
   "cell_type": "code",
   "execution_count": null,
   "metadata": {},
   "outputs": [],
   "source": []
  }
 ],
 "metadata": {
  "kernelspec": {
   "display_name": "Python 3",
   "language": "python",
   "name": "python3"
  },
  "language_info": {
   "codemirror_mode": {
    "name": "ipython",
    "version": 3
   },
   "file_extension": ".py",
   "mimetype": "text/x-python",
   "name": "python",
   "nbconvert_exporter": "python",
   "pygments_lexer": "ipython3",
   "version": "3.7.1"
  }
 },
 "nbformat": 4,
 "nbformat_minor": 2
}
